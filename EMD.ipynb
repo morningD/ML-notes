{
  "nbformat": 4,
  "nbformat_minor": 0,
  "metadata": {
    "colab": {
      "name": "EMD.ipynb",
      "provenance": [],
      "collapsed_sections": []
    },
    "kernelspec": {
      "name": "python3",
      "display_name": "Python 3"
    }
  },
  "cells": [
    {
      "cell_type": "markdown",
      "metadata": {
        "id": "-Knm8jNskI2K",
        "colab_type": "text"
      },
      "source": [
        "# **Earth Mover's Distance (1st Wasserstein Distance)**\n",
        "\n",
        "---\n",
        "## Definition:\n",
        "\n",
        "\n",
        "![替代文字](https://wikimedia.org/api/rest_v1/media/math/render/svg/29baf892051625c69a9c3ba2f0604f0fbf153330)\n",
        "\n",
        "where **p=1** (from wikipedia->[Wasserstein metric](https://en.wikipedia.org/wiki/Wasserstein_metric)).\n",
        "\n",
        "And it can be calculated by $\\int^{+\\infty}_{-\\infty}|U-V|$  as show in Scipy->[wasserstein_distance](https://docs.scipy.org/doc/scipy/reference/generated/scipy.stats.wasserstein_distance.html).\n",
        "\n",
        "## Description:\n",
        "\n",
        "In statistics, the earth mover's distance (EMD) is a measure of the distance between **two probability distributions** over a region D. In mathematics, this is known as the Wasserstein metric. \n",
        "\n",
        "Informally, if the distributions are interpreted as two different ways of piling up a certain amount of dirt over the region D, the EMD is the **minimum cost** of turning one pile into the other; where the cost is assumed to be amount of dirt moved times the distance by which it is moved.\n",
        "\n",
        "## Usage:\n",
        "\n",
        "Wassertein GAN (WGAN)"
      ]
    },
    {
      "cell_type": "markdown",
      "metadata": {
        "id": "xPJOtFrPLqGz",
        "colab_type": "text"
      },
      "source": [
        "# Example\n",
        "\n",
        "scipy.stats.wasserstein_distance(u_values, v_values, u_weights=None, v_weights=None)\n",
        "\n",
        "NOTE: This func actually calculate the **1st** wasserstein distance"
      ]
    },
    {
      "cell_type": "code",
      "metadata": {
        "id": "XefMEFTTrvP0",
        "colab_type": "code",
        "colab": {
          "base_uri": "https://localhost:8080/",
          "height": 69
        },
        "outputId": "ec035185-d183-4e08-cd6a-e2daba0c10a0"
      },
      "source": [
        "# The example of wassertein_distance func\n",
        "\n",
        "import numpy as np\n",
        "from scipy.stats import wasserstein_distance\n",
        "\n",
        "u_values = np.array([0,1,3], dtype=np.uint8)\n",
        "v_values = np.array([5,6,8], dtype=np.uint8)\n",
        "c=2\n",
        "# The minimum cost of turning left distribution (observations) to right distribution (observations),\n",
        "# ex. 0->5, 1->6, 3->8\n",
        "print(\"W(u,v):\", wasserstein_distance(u_values, v_values))\n",
        "print(\"W(v,u):\", wasserstein_distance(v_values, u_values))\n",
        "print(\"W(u,v+c):\", wasserstein_distance(u_values, v_values+c))"
      ],
      "execution_count": 1,
      "outputs": [
        {
          "output_type": "stream",
          "text": [
            "W(u,v): 5.0\n",
            "W(v,u): 5.0\n",
            "W(u,v+c): 7.0\n"
          ],
          "name": "stdout"
        }
      ]
    },
    {
      "cell_type": "markdown",
      "metadata": {
        "id": "RjPrZpZ6QBUP",
        "colab_type": "text"
      },
      "source": [
        "The wasserstein_distance() call _cdf_distance(p, u_values, v_values, u_weights=None, v_weights=None) with p=1. \n",
        "\n",
        "The scipy's implementation is calculate $\\int^{+\\infty}_{-\\infty}|U-V|$, which is the integral of |u's CDF- v's CDF| \n",
        "\n",
        "The calculation details are as follows $\\downarrow$"
      ]
    },
    {
      "cell_type": "code",
      "metadata": {
        "id": "SsqDlCi6uQfs",
        "colab_type": "code",
        "colab": {
          "base_uri": "https://localhost:8080/",
          "height": 34
        },
        "outputId": "09017574-ece6-457a-853f-40d98dd7acfd"
      },
      "source": [
        "# Get the sorter of u and v\n",
        "u_sorter = np.argsort(u_values)\n",
        "v_sorter = np.argsort(v_values)\n",
        "\n",
        "# Concatenate the u and v (Two 1-D ndarray)\n",
        "# NOTE: np.concatenate() does not increse the dimension\n",
        "all_values = np.concatenate((u_values, v_values)) # ->[0,1,3,5,6,8]\n",
        "all_values.sort(kind='mergesort') # sort all_values in-place, ->[0,1,3,5,6,8]\n",
        "\n",
        "# Compute the differences between pairs of successive values of u and v.\n",
        "deltas = np.diff(all_values) # ->[1,2,2,1,2]\n",
        "\n",
        "# Get the respective positions of the values of u and v among the values of\n",
        "# both distributions.\n",
        "u_cdf_indices = u_values[u_sorter].searchsorted(all_values[:-1], 'right') \n",
        "v_cdf_indices = v_values[v_sorter].searchsorted(all_values[:-1], 'right')\n",
        "# u_cdf_indices ->[1,2,3,3,3], v_cdf_indices ->[0,0,0,1,2]\n",
        "\n",
        "# Calculate the CDFs of u and v\n",
        "u_cdf = u_cdf_indices / u_values.size\n",
        "v_cdf = v_cdf_indices / v_values.size\n",
        "# u_cdf ->[1/3,2/3,1,1,1], v_cdf ->[0,0,0,1/3,2/3]\n",
        "\n",
        "# Compute the value of the integral based on the CDFs.\n",
        "emd = np.sum(np.multiply(np.abs(u_cdf - v_cdf), deltas))\n",
        "\n",
        "print(emd)"
      ],
      "execution_count": 2,
      "outputs": [
        {
          "output_type": "stream",
          "text": [
            "5.0\n"
          ],
          "name": "stdout"
        }
      ]
    }
  ]
}