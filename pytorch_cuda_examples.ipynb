{
 "cells": [
  {
   "cell_type": "markdown",
   "metadata": {},
   "source": [
    "# Pytorch GPU\n",
    "\n",
    "Install NVIDIA driver and cuda first.\n",
    "Then install pytorch:\n",
    "\n",
    "conda install pytorch==1.7.1 torchvision==0.8.2 torchaudio==0.7.2 cudatoolkit=11.0 -c pytorch"
   ]
  },
  {
   "cell_type": "code",
   "execution_count": 1,
   "metadata": {},
   "outputs": [],
   "source": [
    "import torch"
   ]
  },
  {
   "cell_type": "code",
   "execution_count": 2,
   "metadata": {},
   "outputs": [
    {
     "name": "stdout",
     "output_type": "stream",
     "text": [
      "CUDA avaliable: True\n",
      "Device Name GeForce RTX 3090\n",
      "Device Count: 3\n"
     ]
    }
   ],
   "source": [
    "# Check CUDA support\n",
    "print('CUDA avaliable:', torch.cuda.is_available())\n",
    "print('Device Name', torch.cuda.get_device_name())\n",
    "print('Device Count:', torch.cuda.device_count())"
   ]
  },
  {
   "cell_type": "code",
   "execution_count": 3,
   "metadata": {},
   "outputs": [
    {
     "name": "stdout",
     "output_type": "stream",
     "text": [
      "x False\n",
      "y True\n",
      "z False\n"
     ]
    }
   ],
   "source": [
    "# Store tensor to GPU\n",
    "device = torch.device(\"cuda:0\")\n",
    "x = torch.FloatTensor([0., 1., 2.])\n",
    "print('x', x.is_cuda)\n",
    "\n",
    "y = x.to(device)\n",
    "print('y', y.is_cuda)\n",
    "\n",
    "# Get a CPU copy of x\n",
    "z = x.cpu()\n",
    "print('z', z.is_cuda)"
   ]
  }
 ],
 "metadata": {
  "kernelspec": {
   "display_name": "pytorch",
   "language": "python",
   "name": "pytorch"
  },
  "language_info": {
   "codemirror_mode": {
    "name": "ipython",
    "version": 3
   },
   "file_extension": ".py",
   "mimetype": "text/x-python",
   "name": "python",
   "nbconvert_exporter": "python",
   "pygments_lexer": "ipython3",
   "version": "3.8.11"
  }
 },
 "nbformat": 4,
 "nbformat_minor": 4
}
